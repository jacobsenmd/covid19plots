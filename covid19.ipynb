{
 "cells": [
  {
   "cell_type": "code",
   "execution_count": 143,
   "metadata": {},
   "outputs": [],
   "source": [
    "from __future__ import print_function\n",
    "import pandas as pd \n",
    "import matplotlib.pyplot as plt\n",
    "from ipywidgets import interact, interactive, fixed, interact_manual\n",
    "import ipywidgets as widgets\n",
    "from ipywidgets import Dropdown\n",
    "import numpy\n",
    "\n",
    "plt.rcParams['figure.figsize'] = [14, 10]"
   ]
  },
  {
   "cell_type": "code",
   "execution_count": 55,
   "metadata": {},
   "outputs": [],
   "source": [
    "# data = pd.read_csv(\"https://data.humdata.org/hxlproxy/api/data-preview.csv?url=https%3A%2F%2Fraw.githubusercontent.com%2FCSSEGISandData%2FCOVID-19%2Fmaster%2Fcsse_covid_19_data%2Fcsse_covid_19_time_series%2Ftime_series_19-covid-Confirmed.csv&filename=time_series_2019-ncov-Confirmed.csv\") \n",
    "data = pd.read_csv(\"covid19.csv\") "
   ]
  },
  {
   "cell_type": "code",
   "execution_count": 155,
   "metadata": {},
   "outputs": [],
   "source": [
    "def get_data_subset(country, province):\n",
    "    country_data = data[data['Country/Region'] == country]\n",
    "    if province == 'All':\n",
    "        return country_data\n",
    "    else:\n",
    "        province_data = country_data[country_data['Province/State'] == province]\n",
    "        return province_data"
   ]
  },
  {
   "cell_type": "code",
   "execution_count": 162,
   "metadata": {},
   "outputs": [],
   "source": [
    "def plot_linear(series, title):\n",
    "    plt.plot(series)\n",
    "    plt.ylabel('Infections')\n",
    "    plt.title(title)\n",
    "    plt.show()"
   ]
  },
  {
   "cell_type": "code",
   "execution_count": 182,
   "metadata": {},
   "outputs": [],
   "source": [
    "def plot_log10(series, title):\n",
    "    series_no_zero = [1 if y == 0 else y for y in series] # We can't take log of 0\n",
    "    plt.plot(numpy.log10(series_no_zero))\n",
    "    plt.ylabel('Log(Infections)')\n",
    "    plt.title(title)\n",
    "    plt.show()"
   ]
  },
  {
   "cell_type": "code",
   "execution_count": 183,
   "metadata": {},
   "outputs": [],
   "source": [
    "def show_country_data(country, province):\n",
    "    data = get_data_subset(country, province)\n",
    "\n",
    "    sums = [None] * (len(data.columns) - 5)\n",
    "    \n",
    "    for col_idx in range(5, len(data.columns)):\n",
    "        sums[col_idx-5] = data.iloc[:,col_idx].sum()\n",
    "    \n",
    "    plot_linear(sums, country + ': ' + province)\n",
    "    plot_log10(sums, country + ': ' + province)"
   ]
  },
  {
   "cell_type": "code",
   "execution_count": 184,
   "metadata": {},
   "outputs": [
    {
     "data": {
      "application/vnd.jupyter.widget-view+json": {
       "model_id": "f72ea6a4f8234a87b78c65d23c0f9639",
       "version_major": 2,
       "version_minor": 0
      },
      "text/plain": [
       "interactive(children=(Dropdown(description='country', options=('Afghanistan', 'Albania', 'Algeria', 'Andorra',…"
      ]
     },
     "metadata": {},
     "output_type": "display_data"
    }
   ],
   "source": [
    "# See https://stackoverflow.com/questions/45754356/jupyter-notebook-widgets-create-dependent-dropdowns\n",
    "\n",
    "country_widget = Dropdown(options = sorted(data['Country/Region'].unique().tolist()))\n",
    "province_widget = Dropdown(options = ['All'])\n",
    "\n",
    "# Define a function that updates the content of province_widget based on what we select for country_widget\n",
    "def update(change):\n",
    "    country_subset = data[data['Country/Region'] == change.new]\n",
    "    province_widget.options = ['All'] + sorted(country_subset['Province/State'].unique().tolist())\n",
    "country_widget.observe(update, 'value')\n",
    "\n",
    "def f(x,y):\n",
    "    return\n",
    "\n",
    "interact(show_country_data, \n",
    "         country=country_widget, \n",
    "         province=province_widget);"
   ]
  },
  {
   "cell_type": "code",
   "execution_count": null,
   "metadata": {},
   "outputs": [],
   "source": []
  }
 ],
 "metadata": {
  "kernelspec": {
   "display_name": "Python 3",
   "language": "python",
   "name": "python3"
  },
  "language_info": {
   "codemirror_mode": {
    "name": "ipython",
    "version": 3
   },
   "file_extension": ".py",
   "mimetype": "text/x-python",
   "name": "python",
   "nbconvert_exporter": "python",
   "pygments_lexer": "ipython3",
   "version": "3.7.4"
  }
 },
 "nbformat": 4,
 "nbformat_minor": 4
}
